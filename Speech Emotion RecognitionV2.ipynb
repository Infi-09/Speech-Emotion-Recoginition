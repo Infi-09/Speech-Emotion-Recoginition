{
 "cells": [
  {
   "cell_type": "code",
   "execution_count": 1,
   "id": "9a0268f0",
   "metadata": {},
   "outputs": [],
   "source": [
    "import os\n",
    "\n",
    "import numpy as np # linear algebra\n",
    "import pandas as pd # data processing\n",
    "import matplotlib.pyplot as plt\n",
    "import seaborn as sns\n",
    "\n",
    "# Audio Processing\n",
    "import librosa \n",
    "import librosa.display\n",
    "\n",
    "# to play the audio files\n",
    "from IPython.display import Audio\n",
    "plt.style.use('seaborn-white')\n",
    "\n",
    "## Data Preparation\n",
    "from sklearn.preprocessing import StandardScaler, OneHotEncoder\n",
    "from sklearn.metrics import confusion_matrix, classification_report\n",
    "from sklearn.model_selection import train_test_split\n",
    "\n",
    "# Modelling\n",
    "import tensorflow as tf\n",
    "from tensorflow import keras\n",
    "from tensorflow.keras import layers\n",
    "from tensorflow.keras.models import load_model\n",
    "\n",
    "from keras.callbacks import ReduceLROnPlateau\n",
    "from keras.models import Sequential\n",
    "from keras.layers import Dense, Conv1D, MaxPooling1D, Flatten, Dropout, BatchNormalization, AveragePooling1D\n",
    "from keras.utils import np_utils, to_categorical\n",
    "from keras.callbacks import ModelCheckpoint"
   ]
  },
  {
   "cell_type": "markdown",
   "id": "eac6602a",
   "metadata": {},
   "source": [
    "## Dataset"
   ]
  },
  {
   "cell_type": "code",
   "execution_count": 2,
   "id": "aa0f1ca5",
   "metadata": {},
   "outputs": [],
   "source": [
    "TESS = \"dataset/tess/\"\n",
    "RAV = \"dataset/ravdess/\"\n",
    "SAVEE = \"dataset/savee/ALL/\"\n",
    "CREMA = \"dataset/crema/\""
   ]
  },
  {
   "cell_type": "markdown",
   "id": "85b47257",
   "metadata": {},
   "source": [
    "### SAVEE"
   ]
  },
  {
   "cell_type": "code",
   "execution_count": 3,
   "id": "7ad1eaae",
   "metadata": {},
   "outputs": [
    {
     "name": "stdout",
     "output_type": "stream",
     "text": [
      "SAVEE dataset\n"
     ]
    },
    {
     "data": {
      "text/html": [
       "<div>\n",
       "<style scoped>\n",
       "    .dataframe tbody tr th:only-of-type {\n",
       "        vertical-align: middle;\n",
       "    }\n",
       "\n",
       "    .dataframe tbody tr th {\n",
       "        vertical-align: top;\n",
       "    }\n",
       "\n",
       "    .dataframe thead th {\n",
       "        text-align: right;\n",
       "    }\n",
       "</style>\n",
       "<table border=\"1\" class=\"dataframe\">\n",
       "  <thead>\n",
       "    <tr style=\"text-align: right;\">\n",
       "      <th></th>\n",
       "      <th>labels</th>\n",
       "      <th>path</th>\n",
       "    </tr>\n",
       "  </thead>\n",
       "  <tbody>\n",
       "    <tr>\n",
       "      <th>0</th>\n",
       "      <td>angry</td>\n",
       "      <td>dataset/savee/ALL/DC_a01.wav</td>\n",
       "    </tr>\n",
       "    <tr>\n",
       "      <th>1</th>\n",
       "      <td>angry</td>\n",
       "      <td>dataset/savee/ALL/DC_a02.wav</td>\n",
       "    </tr>\n",
       "    <tr>\n",
       "      <th>2</th>\n",
       "      <td>angry</td>\n",
       "      <td>dataset/savee/ALL/DC_a03.wav</td>\n",
       "    </tr>\n",
       "    <tr>\n",
       "      <th>3</th>\n",
       "      <td>angry</td>\n",
       "      <td>dataset/savee/ALL/DC_a04.wav</td>\n",
       "    </tr>\n",
       "    <tr>\n",
       "      <th>4</th>\n",
       "      <td>angry</td>\n",
       "      <td>dataset/savee/ALL/DC_a05.wav</td>\n",
       "    </tr>\n",
       "  </tbody>\n",
       "</table>\n",
       "</div>"
      ],
      "text/plain": [
       "  labels                          path\n",
       "0  angry  dataset/savee/ALL/DC_a01.wav\n",
       "1  angry  dataset/savee/ALL/DC_a02.wav\n",
       "2  angry  dataset/savee/ALL/DC_a03.wav\n",
       "3  angry  dataset/savee/ALL/DC_a04.wav\n",
       "4  angry  dataset/savee/ALL/DC_a05.wav"
      ]
     },
     "execution_count": 3,
     "metadata": {},
     "output_type": "execute_result"
    }
   ],
   "source": [
    "# Get the data location for SAVEE\n",
    "dir_list = os.listdir(SAVEE)\n",
    "\n",
    "# parse the filename to get the emotions\n",
    "emotion=[]\n",
    "path = []\n",
    "for i in dir_list:\n",
    "    if i[-8:-6]=='_a':\n",
    "        emotion.append('angry')\n",
    "    elif i[-8:-6]=='_d':\n",
    "        emotion.append('disgust')\n",
    "    elif i[-8:-6]=='_f':\n",
    "        emotion.append('fear')\n",
    "    elif i[-8:-6]=='_h':\n",
    "        emotion.append('happy')\n",
    "    elif i[-8:-6]=='_n':\n",
    "        emotion.append('neutral')\n",
    "    elif i[-8:-6]=='sa':\n",
    "        emotion.append('sad')\n",
    "    elif i[-8:-6]=='su':\n",
    "        emotion.append('surprise')\n",
    "    else:\n",
    "        emotion.append('unknown') \n",
    "    path.append(SAVEE + i)\n",
    "\n",
    "# Now check out the label count distribution \n",
    "SAVEE_df = pd.DataFrame(emotion, columns = ['labels'])\n",
    "SAVEE_df = pd.concat([SAVEE_df, pd.DataFrame(path, columns = ['path'])], axis = 1)\n",
    "print('SAVEE dataset')\n",
    "SAVEE_df.head()"
   ]
  },
  {
   "cell_type": "markdown",
   "id": "b8fbfa2c",
   "metadata": {},
   "source": [
    "### TESS"
   ]
  },
  {
   "cell_type": "code",
   "execution_count": 4,
   "id": "78bb941e",
   "metadata": {},
   "outputs": [
    {
     "name": "stdout",
     "output_type": "stream",
     "text": [
      "TESS dataset\n"
     ]
    },
    {
     "data": {
      "text/html": [
       "<div>\n",
       "<style scoped>\n",
       "    .dataframe tbody tr th:only-of-type {\n",
       "        vertical-align: middle;\n",
       "    }\n",
       "\n",
       "    .dataframe tbody tr th {\n",
       "        vertical-align: top;\n",
       "    }\n",
       "\n",
       "    .dataframe thead th {\n",
       "        text-align: right;\n",
       "    }\n",
       "</style>\n",
       "<table border=\"1\" class=\"dataframe\">\n",
       "  <thead>\n",
       "    <tr style=\"text-align: right;\">\n",
       "      <th></th>\n",
       "      <th>labels</th>\n",
       "      <th>path</th>\n",
       "    </tr>\n",
       "  </thead>\n",
       "  <tbody>\n",
       "    <tr>\n",
       "      <th>0</th>\n",
       "      <td>angry</td>\n",
       "      <td>dataset/tess/OAF_angry/OAF_back_angry.wav</td>\n",
       "    </tr>\n",
       "    <tr>\n",
       "      <th>1</th>\n",
       "      <td>angry</td>\n",
       "      <td>dataset/tess/OAF_angry/OAF_bar_angry.wav</td>\n",
       "    </tr>\n",
       "    <tr>\n",
       "      <th>2</th>\n",
       "      <td>angry</td>\n",
       "      <td>dataset/tess/OAF_angry/OAF_base_angry.wav</td>\n",
       "    </tr>\n",
       "    <tr>\n",
       "      <th>3</th>\n",
       "      <td>angry</td>\n",
       "      <td>dataset/tess/OAF_angry/OAF_bath_angry.wav</td>\n",
       "    </tr>\n",
       "    <tr>\n",
       "      <th>4</th>\n",
       "      <td>angry</td>\n",
       "      <td>dataset/tess/OAF_angry/OAF_bean_angry.wav</td>\n",
       "    </tr>\n",
       "  </tbody>\n",
       "</table>\n",
       "</div>"
      ],
      "text/plain": [
       "  labels                                       path\n",
       "0  angry  dataset/tess/OAF_angry/OAF_back_angry.wav\n",
       "1  angry   dataset/tess/OAF_angry/OAF_bar_angry.wav\n",
       "2  angry  dataset/tess/OAF_angry/OAF_base_angry.wav\n",
       "3  angry  dataset/tess/OAF_angry/OAF_bath_angry.wav\n",
       "4  angry  dataset/tess/OAF_angry/OAF_bean_angry.wav"
      ]
     },
     "execution_count": 4,
     "metadata": {},
     "output_type": "execute_result"
    }
   ],
   "source": [
    "# Get the data location for TESS\n",
    "path = []\n",
    "emotion = []\n",
    "dir_list = os.listdir(TESS)\n",
    "\n",
    "for i in dir_list:\n",
    "    fname = os.listdir(TESS + i)   \n",
    "    for f in fname:\n",
    "        if i == 'OAF_angry' or i == 'YAF_angry':\n",
    "            emotion.append('angry')\n",
    "        elif i == 'OAF_disgust' or i == 'YAF_disgust':\n",
    "            emotion.append('disgust')\n",
    "        elif i == 'OAF_Fear' or i == 'YAF_fear':\n",
    "            emotion.append('fear')\n",
    "        elif i == 'OAF_happy' or i == 'YAF_happy':\n",
    "            emotion.append('happy')\n",
    "        elif i == 'OAF_neutral' or i == 'YAF_neutral':\n",
    "            emotion.append('neutral')                                \n",
    "        elif i == 'OAF_Pleasant_surprise' or i == 'YAF_pleasant_surprised':\n",
    "            emotion.append('surprise')               \n",
    "        elif i == 'OAF_Sad' or i == 'YAF_sad':\n",
    "            emotion.append('sad')\n",
    "        else:\n",
    "            emotion.append('Unknown')\n",
    "        path.append(TESS + i + \"/\" + f)\n",
    "\n",
    "TESS_df = pd.DataFrame(emotion, columns = ['labels'])\n",
    "#TESS_df['source'] = 'TESS'\n",
    "TESS_df = pd.concat([TESS_df,pd.DataFrame(path, columns = ['path'])],axis=1)\n",
    "print('TESS dataset')\n",
    "TESS_df.head()"
   ]
  },
  {
   "cell_type": "markdown",
   "id": "b8f14b1b",
   "metadata": {},
   "source": [
    "### RAVDESS"
   ]
  },
  {
   "cell_type": "code",
   "execution_count": 5,
   "id": "c91d82f4",
   "metadata": {},
   "outputs": [
    {
     "name": "stdout",
     "output_type": "stream",
     "text": [
      "RAVDESS datasets\n"
     ]
    },
    {
     "data": {
      "text/html": [
       "<div>\n",
       "<style scoped>\n",
       "    .dataframe tbody tr th:only-of-type {\n",
       "        vertical-align: middle;\n",
       "    }\n",
       "\n",
       "    .dataframe tbody tr th {\n",
       "        vertical-align: top;\n",
       "    }\n",
       "\n",
       "    .dataframe thead th {\n",
       "        text-align: right;\n",
       "    }\n",
       "</style>\n",
       "<table border=\"1\" class=\"dataframe\">\n",
       "  <thead>\n",
       "    <tr style=\"text-align: right;\">\n",
       "      <th></th>\n",
       "      <th>labels</th>\n",
       "      <th>path</th>\n",
       "    </tr>\n",
       "  </thead>\n",
       "  <tbody>\n",
       "    <tr>\n",
       "      <th>0</th>\n",
       "      <td>neutral</td>\n",
       "      <td>dataset/ravdess/Actor_02/03-01-01-01-01-01-02.wav</td>\n",
       "    </tr>\n",
       "    <tr>\n",
       "      <th>1</th>\n",
       "      <td>neutral</td>\n",
       "      <td>dataset/ravdess/Actor_02/03-01-01-01-01-02-02.wav</td>\n",
       "    </tr>\n",
       "    <tr>\n",
       "      <th>2</th>\n",
       "      <td>neutral</td>\n",
       "      <td>dataset/ravdess/Actor_02/03-01-01-01-02-01-02.wav</td>\n",
       "    </tr>\n",
       "    <tr>\n",
       "      <th>3</th>\n",
       "      <td>neutral</td>\n",
       "      <td>dataset/ravdess/Actor_02/03-01-01-01-02-02-02.wav</td>\n",
       "    </tr>\n",
       "    <tr>\n",
       "      <th>4</th>\n",
       "      <td>calm</td>\n",
       "      <td>dataset/ravdess/Actor_02/03-01-02-01-01-01-02.wav</td>\n",
       "    </tr>\n",
       "  </tbody>\n",
       "</table>\n",
       "</div>"
      ],
      "text/plain": [
       "    labels                                               path\n",
       "0  neutral  dataset/ravdess/Actor_02/03-01-01-01-01-01-02.wav\n",
       "1  neutral  dataset/ravdess/Actor_02/03-01-01-01-01-02-02.wav\n",
       "2  neutral  dataset/ravdess/Actor_02/03-01-01-01-02-01-02.wav\n",
       "3  neutral  dataset/ravdess/Actor_02/03-01-01-01-02-02-02.wav\n",
       "4     calm  dataset/ravdess/Actor_02/03-01-02-01-01-01-02.wav"
      ]
     },
     "execution_count": 5,
     "metadata": {},
     "output_type": "execute_result"
    }
   ],
   "source": [
    "# Importing datas from RAVDESS\n",
    "dir = os.listdir(RAV)\n",
    "\n",
    "males = []\n",
    "females = [] \n",
    "        \n",
    "for actor in dir:\n",
    "       \n",
    "    files = os.listdir(RAV + actor)\n",
    "        \n",
    "    for file in files: \n",
    "        part = file.split('.')[0]\n",
    "        part = part.split(\"-\")           \n",
    "            \n",
    "        temp = int(part[6])        \n",
    "                \n",
    "        if part[2] == '01':\n",
    "            emotion = 'neutral'\n",
    "        elif part[2] == '02':\n",
    "            emotion = 'calm'\n",
    "        elif part[2] == '03':\n",
    "            emotion = 'happy'\n",
    "        elif part[2] == '04':\n",
    "            emotion = 'sad'\n",
    "        elif part[2] == '05':\n",
    "            emotion = 'angry'\n",
    "        elif part[2] == '06':\n",
    "            emotion = 'fear'\n",
    "        elif part[2] == '07':\n",
    "            emotion = 'disgust'\n",
    "        elif part[2] == '08':\n",
    "            emotion = 'surprise'\n",
    "        else:\n",
    "            emotion = 'unknown'\n",
    "            \n",
    "        if temp%2 == 0:\n",
    "            path = (RAV + actor + '/' + file)\n",
    "            #emotion = 'female_'+emotion\n",
    "            females.append([emotion, path]) \n",
    "        else:\n",
    "            path = (RAV + actor + '/' + file)\n",
    "             #emotion = 'male_'+emotion\n",
    "            males.append([emotion, path])   \n",
    "    \n",
    "   \n",
    "RavFemales_df = pd.DataFrame(females)\n",
    "RavFemales_df.columns = ['labels', 'path']\n",
    "\n",
    "RavMales_df = pd.DataFrame(males)\n",
    "RavMales_df.columns = ['labels', 'path']\n",
    "\n",
    "print('RAVDESS datasets')\n",
    "RavFemales_df.head()"
   ]
  },
  {
   "cell_type": "code",
   "execution_count": 6,
   "id": "97c999be",
   "metadata": {},
   "outputs": [
    {
     "data": {
      "text/html": [
       "<div>\n",
       "<style scoped>\n",
       "    .dataframe tbody tr th:only-of-type {\n",
       "        vertical-align: middle;\n",
       "    }\n",
       "\n",
       "    .dataframe tbody tr th {\n",
       "        vertical-align: top;\n",
       "    }\n",
       "\n",
       "    .dataframe thead th {\n",
       "        text-align: right;\n",
       "    }\n",
       "</style>\n",
       "<table border=\"1\" class=\"dataframe\">\n",
       "  <thead>\n",
       "    <tr style=\"text-align: right;\">\n",
       "      <th></th>\n",
       "      <th>labels</th>\n",
       "      <th>path</th>\n",
       "    </tr>\n",
       "  </thead>\n",
       "  <tbody>\n",
       "    <tr>\n",
       "      <th>0</th>\n",
       "      <td>neutral</td>\n",
       "      <td>dataset/ravdess/Actor_01/03-01-01-01-01-01-01.wav</td>\n",
       "    </tr>\n",
       "    <tr>\n",
       "      <th>1</th>\n",
       "      <td>neutral</td>\n",
       "      <td>dataset/ravdess/Actor_01/03-01-01-01-01-02-01.wav</td>\n",
       "    </tr>\n",
       "    <tr>\n",
       "      <th>2</th>\n",
       "      <td>neutral</td>\n",
       "      <td>dataset/ravdess/Actor_01/03-01-01-01-02-01-01.wav</td>\n",
       "    </tr>\n",
       "    <tr>\n",
       "      <th>3</th>\n",
       "      <td>neutral</td>\n",
       "      <td>dataset/ravdess/Actor_01/03-01-01-01-02-02-01.wav</td>\n",
       "    </tr>\n",
       "    <tr>\n",
       "      <th>4</th>\n",
       "      <td>calm</td>\n",
       "      <td>dataset/ravdess/Actor_01/03-01-02-01-01-01-01.wav</td>\n",
       "    </tr>\n",
       "  </tbody>\n",
       "</table>\n",
       "</div>"
      ],
      "text/plain": [
       "    labels                                               path\n",
       "0  neutral  dataset/ravdess/Actor_01/03-01-01-01-01-01-01.wav\n",
       "1  neutral  dataset/ravdess/Actor_01/03-01-01-01-01-02-01.wav\n",
       "2  neutral  dataset/ravdess/Actor_01/03-01-01-01-02-01-01.wav\n",
       "3  neutral  dataset/ravdess/Actor_01/03-01-01-01-02-02-01.wav\n",
       "4     calm  dataset/ravdess/Actor_01/03-01-02-01-01-01-01.wav"
      ]
     },
     "execution_count": 6,
     "metadata": {},
     "output_type": "execute_result"
    }
   ],
   "source": [
    "RavMales_df.head()"
   ]
  },
  {
   "cell_type": "markdown",
   "id": "add17571",
   "metadata": {},
   "source": [
    "### CREMA"
   ]
  },
  {
   "cell_type": "code",
   "execution_count": 7,
   "id": "d69cbcb7",
   "metadata": {},
   "outputs": [
    {
     "name": "stdout",
     "output_type": "stream",
     "text": [
      "CREMA datasets\n"
     ]
    },
    {
     "data": {
      "text/html": [
       "<div>\n",
       "<style scoped>\n",
       "    .dataframe tbody tr th:only-of-type {\n",
       "        vertical-align: middle;\n",
       "    }\n",
       "\n",
       "    .dataframe tbody tr th {\n",
       "        vertical-align: top;\n",
       "    }\n",
       "\n",
       "    .dataframe thead th {\n",
       "        text-align: right;\n",
       "    }\n",
       "</style>\n",
       "<table border=\"1\" class=\"dataframe\">\n",
       "  <thead>\n",
       "    <tr style=\"text-align: right;\">\n",
       "      <th></th>\n",
       "      <th>labels</th>\n",
       "      <th>path</th>\n",
       "    </tr>\n",
       "  </thead>\n",
       "  <tbody>\n",
       "    <tr>\n",
       "      <th>0</th>\n",
       "      <td>angry</td>\n",
       "      <td>dataset/crema//1002_DFA_ANG_XX.wav</td>\n",
       "    </tr>\n",
       "    <tr>\n",
       "      <th>1</th>\n",
       "      <td>disgust</td>\n",
       "      <td>dataset/crema//1002_DFA_DIS_XX.wav</td>\n",
       "    </tr>\n",
       "    <tr>\n",
       "      <th>2</th>\n",
       "      <td>fear</td>\n",
       "      <td>dataset/crema//1002_DFA_FEA_XX.wav</td>\n",
       "    </tr>\n",
       "    <tr>\n",
       "      <th>3</th>\n",
       "      <td>happy</td>\n",
       "      <td>dataset/crema//1002_DFA_HAP_XX.wav</td>\n",
       "    </tr>\n",
       "    <tr>\n",
       "      <th>4</th>\n",
       "      <td>neutral</td>\n",
       "      <td>dataset/crema//1002_DFA_NEU_XX.wav</td>\n",
       "    </tr>\n",
       "  </tbody>\n",
       "</table>\n",
       "</div>"
      ],
      "text/plain": [
       "    labels                                path\n",
       "0    angry  dataset/crema//1002_DFA_ANG_XX.wav\n",
       "1  disgust  dataset/crema//1002_DFA_DIS_XX.wav\n",
       "2     fear  dataset/crema//1002_DFA_FEA_XX.wav\n",
       "3    happy  dataset/crema//1002_DFA_HAP_XX.wav\n",
       "4  neutral  dataset/crema//1002_DFA_NEU_XX.wav"
      ]
     },
     "execution_count": 7,
     "metadata": {},
     "output_type": "execute_result"
    }
   ],
   "source": [
    "files = os.listdir(CREMA)\n",
    "\n",
    "female = [1002,1003,1004,1006,1007,1008,1009,1010,1012,1013,1018,1020,1021,1024,1025,1028,1029,1030,1037,1043,1046,1047,1049,\n",
    "          1052,1053,1054,1055,1056,1058,1060,1061,1063,1072,1073,1074,1075,1076,1078,1079,1082,1084,1089,1091]\n",
    "males = []\n",
    "females = []\n",
    "\n",
    "for file in files: \n",
    "    part = file.split('_')   \n",
    "    \n",
    "    if part[2] == 'SAD':\n",
    "        emotion = 'sad'\n",
    "    elif part[2] == 'ANG':\n",
    "        emotion = 'angry'\n",
    "    elif part[2] == 'DIS':\n",
    "        emotion = 'disgust'\n",
    "    elif part[2] == 'FEA':\n",
    "        emotion = 'fear'\n",
    "    elif part[2] == 'HAP':\n",
    "        emotion = 'happy'\n",
    "    elif part[2] == 'NEU':\n",
    "        emotion = 'neutral'  \n",
    "    else:\n",
    "        emotion = 'unknown'\n",
    "        \n",
    "    if int(part[0]) in female:\n",
    "        path = (CREMA + '/' + file)\n",
    "        #emotion = 'female_'+emotion\n",
    "        females.append([emotion, path]) \n",
    "    else:\n",
    "        path = (CREMA + '/' + file)\n",
    "        #emotion = 'male_'+emotion\n",
    "        males.append([emotion, path])   \n",
    "    \n",
    "CremaFemales_df = pd.DataFrame(females)\n",
    "CremaFemales_df.columns = ['labels', 'path']\n",
    "\n",
    "CremaMales_df = pd.DataFrame(males)\n",
    "CremaMales_df.columns = ['labels', 'path']\n",
    "    \n",
    "print('CREMA datasets')\n",
    "CremaFemales_df.head()"
   ]
  },
  {
   "cell_type": "code",
   "execution_count": 8,
   "id": "5a28d9ac",
   "metadata": {},
   "outputs": [],
   "source": [
    "# Now lets merge all the dataframe\n",
    "Males = pd.concat([SAVEE_df, RavMales_df, CremaMales_df], axis = 0)\n",
    "Males.to_csv(\"males_emotions_df.csv\", index = False)\n",
    "\n",
    "Females = pd.concat([TESS_df, RavFemales_df, CremaFemales_df], axis = 0)\n",
    "Females.to_csv(\"females_emotions_df.csv\", index = False)"
   ]
  },
  {
   "cell_type": "markdown",
   "id": "58783b3d",
   "metadata": {},
   "source": [
    "### Data Augmentation"
   ]
  },
  {
   "cell_type": "code",
   "execution_count": 9,
   "id": "08ba6389",
   "metadata": {},
   "outputs": [],
   "source": [
    "def noise(data):\n",
    "    noise_amp = 0.04*np.random.uniform()*np.amax(data)\n",
    "    data = data + noise_amp*np.random.normal(size=data.shape[0])\n",
    "    return data\n",
    "\n",
    "def stretch(data, rate=0.70):\n",
    "    return librosa.effects.time_stretch(data, rate)\n",
    "\n",
    "def shift(data):\n",
    "    shift_range = int(np.random.uniform(low=-5, high = 5)*1000)\n",
    "    return np.roll(data, shift_range)\n",
    "\n",
    "def pitch(data, sampling_rate, pitch_factor=0.8):\n",
    "    return librosa.effects.pitch_shift(data, sampling_rate, pitch_factor)\n",
    "\n",
    "def higher_speed(data, speed_factor = 1.25):\n",
    "    return librosa.effects.time_stretch(data, speed_factor)\n",
    "\n",
    "def lower_speed(data, speed_factor = 0.75):\n",
    "    return librosa.effects.time_stretch(data, speed_factor)"
   ]
  },
  {
   "cell_type": "markdown",
   "id": "c99fabad",
   "metadata": {},
   "source": [
    "### Feature Extraction"
   ]
  },
  {
   "cell_type": "code",
   "execution_count": 10,
   "id": "578a74fe",
   "metadata": {},
   "outputs": [],
   "source": [
    "#sample_rate = 22050\n",
    "\n",
    "def extract_features(data):\n",
    "    \n",
    "    result = np.array([])\n",
    "    \n",
    "    #mfccs = librosa.feature.mfcc(y=data, sr=22050, n_mfcc=42) #42 mfcc so we get frames of ~60 ms\n",
    "    mfccs = librosa.feature.mfcc(y=data, sr=22050, n_mfcc=58)\n",
    "    mfccs_processed = np.mean(mfccs.T,axis=0)\n",
    "    result = np.array(mfccs_processed)\n",
    "     \n",
    "    return result\n",
    "\n",
    "def get_features(path):\n",
    "    # duration and offset are used to take care of the no audio in start and the ending of each audio files as seen above.\n",
    "    data, sample_rate = librosa.load(path, duration=3, offset=0.5, res_type='kaiser_fast') \n",
    "    \n",
    "    #without augmentation\n",
    "    res1 = extract_features(data)\n",
    "    result = np.array(res1)\n",
    "    \n",
    "    #noised\n",
    "    noise_data = noise(data)\n",
    "    res2 = extract_features(noise_data)\n",
    "    result = np.vstack((result, res2)) # stacking vertically\n",
    "    \n",
    "    #stretched\n",
    "    stretch_data = stretch(data)\n",
    "    res3 = extract_features(stretch_data)\n",
    "    result = np.vstack((result, res3))\n",
    "    \n",
    "    #shifted\n",
    "    shift_data = shift(data)\n",
    "    res4 = extract_features(shift_data)\n",
    "    result = np.vstack((result, res4))\n",
    "    \n",
    "    #pitched\n",
    "    pitch_data = pitch(data, sample_rate)\n",
    "    res5 = extract_features(pitch_data)\n",
    "    result = np.vstack((result, res5)) \n",
    "    \n",
    "    #speed up\n",
    "    higher_speed_data = higher_speed(data)\n",
    "    res6 = extract_features(higher_speed_data)\n",
    "    result = np.vstack((result, res6))\n",
    "    \n",
    "    #speed down\n",
    "    lower_speed_data = higher_speed(data)\n",
    "    res7 = extract_features(lower_speed_data)\n",
    "    result = np.vstack((result, res7))\n",
    "    \n",
    "    return result"
   ]
  },
  {
   "cell_type": "code",
   "execution_count": null,
   "id": "b683599b",
   "metadata": {
    "scrolled": false
   },
   "outputs": [
    {
     "name": "stderr",
     "output_type": "stream",
     "text": [
      "C:\\Users\\ASWIN\\AppData\\Local\\Temp/ipykernel_8872/1046209821.py:7: FutureWarning: Pass rate=0.7 as keyword args. From version 0.10 passing these as positional arguments will result in an error\n",
      "  return librosa.effects.time_stretch(data, rate)\n",
      "C:\\Users\\ASWIN\\AppData\\Local\\Temp/ipykernel_8872/1046209821.py:14: FutureWarning: Pass sr=22050, n_steps=0.8 as keyword args. From version 0.10 passing these as positional arguments will result in an error\n",
      "  return librosa.effects.pitch_shift(data, sampling_rate, pitch_factor)\n",
      "C:\\Users\\ASWIN\\AppData\\Local\\Temp/ipykernel_8872/1046209821.py:17: FutureWarning: Pass rate=1.25 as keyword args. From version 0.10 passing these as positional arguments will result in an error\n",
      "  return librosa.effects.time_stretch(data, speed_factor)\n"
     ]
    }
   ],
   "source": [
    "female_X, female_Y = [], []\n",
    "for path, emotion in zip(Females.path, Females.labels):\n",
    "    features = get_features(path)\n",
    "    #adding augmentation, get_features return a multi dimensional array (for each augmentation), so we have to use a loop to fill the df\n",
    "    for elem in features: \n",
    "        female_X.append(elem)        \n",
    "        female_Y.append(emotion)\n",
    "\n",
    "male_X, male_Y = [], []\n",
    "for path, emotion in zip(Males.path, Males.labels):\n",
    "    features = get_features(path)\n",
    "    for elem in features:\n",
    "        male_X.append(elem)\n",
    "        male_Y.append(emotion)\n",
    "    \n",
    "print(f'Check shapes:\\nFemale features: {len(female_X)}, labels: {len(female_Y)}\\nMale features:   {len(male_X)}, labels: {len(male_Y)}')"
   ]
  },
  {
   "cell_type": "code",
   "execution_count": 14,
   "id": "ca4c6f35",
   "metadata": {},
   "outputs": [],
   "source": [
    "def setup_dataframe(gender, features, labels):\n",
    "    df = pd.DataFrame(features)\n",
    "    df['labels'] = labels\n",
    "    df.to_csv(f'{gender}_features.csv', index=False)\n",
    "    \n",
    "    print(f'{gender} dataframe')\n",
    "    df.sample(frac=1).head()\n",
    "    \n",
    "    return df"
   ]
  },
  {
   "cell_type": "code",
   "execution_count": 15,
   "id": "b325ab80",
   "metadata": {},
   "outputs": [
    {
     "name": "stdout",
     "output_type": "stream",
     "text": [
      "Female dataframe\n",
      "Male dataframe\n"
     ]
    }
   ],
   "source": [
    "Females_Features = setup_dataframe('Female', female_X, female_Y)\n",
    "Males_Features = setup_dataframe('Male', male_X, male_Y)"
   ]
  },
  {
   "cell_type": "markdown",
   "id": "dba18f6e",
   "metadata": {},
   "source": [
    "### Data Preparation "
   ]
  },
  {
   "cell_type": "code",
   "execution_count": 16,
   "id": "9227aa2f",
   "metadata": {},
   "outputs": [],
   "source": [
    "female_X = Females_Features.iloc[: ,:-1].values\n",
    "female_Y = Females_Features['labels'].values\n",
    "\n",
    "male_X = Males_Features.iloc[: ,:-1].values\n",
    "male_Y = Males_Features['labels'].values"
   ]
  },
  {
   "cell_type": "code",
   "execution_count": 19,
   "id": "b6e7e192",
   "metadata": {},
   "outputs": [],
   "source": [
    "# As this is a multiclass classification problem onehotencoding our Y.\n",
    "encoder = OneHotEncoder()\n",
    "\n",
    "female_Y = encoder.fit_transform(np.array(female_Y).reshape(-1,1)).toarray()\n",
    "male_Y = encoder.fit_transform(np.array(male_Y).reshape(-1,1)).toarray()"
   ]
  },
  {
   "cell_type": "markdown",
   "id": "842403aa",
   "metadata": {},
   "source": [
    "### Splitting Data"
   ]
  },
  {
   "cell_type": "code",
   "execution_count": 21,
   "id": "b488cfd4",
   "metadata": {},
   "outputs": [
    {
     "data": {
      "text/plain": [
       "((68107, 58), (68107, 8), (17027, 58), (17027, 8))"
      ]
     },
     "execution_count": 21,
     "metadata": {},
     "output_type": "execute_result"
    }
   ],
   "source": [
    "X = np.concatenate((female_X, male_X))\n",
    "Y = np.concatenate((female_Y, male_Y))\n",
    "\n",
    "x_train, x_test, y_train, y_test = train_test_split(X, Y, random_state=0, test_size=0.20, shuffle=True)\n",
    "x_train.shape, y_train.shape, x_test.shape, y_test.shape"
   ]
  },
  {
   "cell_type": "code",
   "execution_count": 22,
   "id": "bba30a37",
   "metadata": {},
   "outputs": [
    {
     "data": {
      "text/plain": [
       "((68107, 58, 1), (68107, 8), (17027, 58, 1), (17027, 8))"
      ]
     },
     "execution_count": 22,
     "metadata": {},
     "output_type": "execute_result"
    }
   ],
   "source": [
    "scaler = StandardScaler()\n",
    "\n",
    "x_train = scaler.fit_transform(x_train)\n",
    "x_test = scaler.transform(x_test)\n",
    "\n",
    "x_train = np.expand_dims(x_train, axis=2)\n",
    "x_test = np.expand_dims(x_test, axis=2)\n",
    "x_train.shape, y_train.shape , x_test.shape , y_test.shape"
   ]
  },
  {
   "cell_type": "markdown",
   "id": "2196aacd",
   "metadata": {},
   "source": [
    "### Modelling"
   ]
  },
  {
   "cell_type": "code",
   "execution_count": 23,
   "id": "fd80edba",
   "metadata": {},
   "outputs": [
    {
     "name": "stdout",
     "output_type": "stream",
     "text": [
      "Num GPUs Available:  1\n"
     ]
    }
   ],
   "source": [
    "## To check if a system has the necessary GPU resources available to train our large models\n",
    "print(\"Num GPUs Available: \", len(tf.config.experimental.list_physical_devices('GPU')))"
   ]
  },
  {
   "cell_type": "code",
   "execution_count": 24,
   "id": "94945a4d",
   "metadata": {},
   "outputs": [
    {
     "name": "stdout",
     "output_type": "stream",
     "text": [
      "INFO:tensorflow:Using MirroredStrategy with devices ('/job:localhost/replica:0/task:0/device:GPU:0',)\n",
      "Number of devices: 1\n"
     ]
    }
   ],
   "source": [
    "# Create a MirroredStrategy.\n",
    "strategy = tf.distribute.MirroredStrategy()\n",
    "print('Number of devices: {}'.format(strategy.num_replicas_in_sync))"
   ]
  },
  {
   "cell_type": "code",
   "execution_count": 25,
   "id": "016dff52",
   "metadata": {},
   "outputs": [],
   "source": [
    "with strategy.scope():\n",
    "    \n",
    "    def build_model(in_shape):\n",
    "        \n",
    "        model=Sequential()\n",
    "        model.add(Conv1D(256, kernel_size=6, strides=1, padding='same', activation='relu', input_shape=(in_shape, 1)))\n",
    "        model.add(AveragePooling1D(pool_size=4, strides = 2, padding = 'same'))\n",
    "\n",
    "        model.add(Conv1D(128, kernel_size=6, strides=1, padding='same', activation='relu'))\n",
    "        model.add(AveragePooling1D(pool_size=4, strides = 2, padding = 'same'))\n",
    "\n",
    "        model.add(Conv1D(128, kernel_size=6, strides=1, padding='same', activation='relu'))\n",
    "        model.add(AveragePooling1D(pool_size=4, strides = 2, padding = 'same'))\n",
    "        model.add(Dropout(0.2))\n",
    "\n",
    "        model.add(Conv1D(64, kernel_size=6, strides=1, padding='same', activation='relu'))\n",
    "        model.add(MaxPooling1D(pool_size=4, strides = 2, padding = 'same'))\n",
    "        \n",
    "        model.add(Flatten())\n",
    "        model.add(Dense(units=32, activation='relu'))\n",
    "        model.add(Dropout(0.3))\n",
    "\n",
    "        model.add(Dense(units=8, activation='softmax'))\n",
    "        model.compile(optimizer = 'adam' , loss = 'categorical_crossentropy' , metrics = ['accuracy'])\n",
    "          \n",
    "        return model"
   ]
  },
  {
   "cell_type": "code",
   "execution_count": 26,
   "id": "09ecae35",
   "metadata": {},
   "outputs": [],
   "source": [
    "def model_build_summary(mod_dim, tr_features, val_features, val_labels):\n",
    "    model = build_model(mod_dim)\n",
    "    model.summary()\n",
    "    \n",
    "    score = model.evaluate(val_features, val_labels, verbose = 1)\n",
    "    accuracy = 100*score[1]\n",
    "    \n",
    "    return model"
   ]
  },
  {
   "cell_type": "code",
   "execution_count": 27,
   "id": "b91d01c3",
   "metadata": {},
   "outputs": [],
   "source": [
    "rlrp = ReduceLROnPlateau(monitor='loss', factor=0.4, verbose=0, patience=4, min_lr=0.000001)\n",
    "\n",
    "batch_size = 32\n",
    "n_epochs = 75"
   ]
  },
  {
   "cell_type": "code",
   "execution_count": 29,
   "id": "b392a713",
   "metadata": {
    "scrolled": true
   },
   "outputs": [
    {
     "name": "stdout",
     "output_type": "stream",
     "text": [
      "Model: \"sequential\"\n",
      "_________________________________________________________________\n",
      " Layer (type)                Output Shape              Param #   \n",
      "=================================================================\n",
      " conv1d (Conv1D)             (None, 58, 256)           1792      \n",
      "                                                                 \n",
      " average_pooling1d (AverageP  (None, 29, 256)          0         \n",
      " ooling1D)                                                       \n",
      "                                                                 \n",
      " conv1d_1 (Conv1D)           (None, 29, 128)           196736    \n",
      "                                                                 \n",
      " average_pooling1d_1 (Averag  (None, 15, 128)          0         \n",
      " ePooling1D)                                                     \n",
      "                                                                 \n",
      " conv1d_2 (Conv1D)           (None, 15, 128)           98432     \n",
      "                                                                 \n",
      " average_pooling1d_2 (Averag  (None, 8, 128)           0         \n",
      " ePooling1D)                                                     \n",
      "                                                                 \n",
      " dropout (Dropout)           (None, 8, 128)            0         \n",
      "                                                                 \n",
      " conv1d_3 (Conv1D)           (None, 8, 64)             49216     \n",
      "                                                                 \n",
      " max_pooling1d (MaxPooling1D  (None, 4, 64)            0         \n",
      " )                                                               \n",
      "                                                                 \n",
      " flatten (Flatten)           (None, 256)               0         \n",
      "                                                                 \n",
      " dense (Dense)               (None, 32)                8224      \n",
      "                                                                 \n",
      " dropout_1 (Dropout)         (None, 32)                0         \n",
      "                                                                 \n",
      " dense_1 (Dense)             (None, 8)                 264       \n",
      "                                                                 \n",
      "=================================================================\n",
      "Total params: 354,664\n",
      "Trainable params: 354,664\n",
      "Non-trainable params: 0\n",
      "_________________________________________________________________\n",
      "533/533 [==============================] - 7s 4ms/step - loss: 2.0775 - accuracy: 0.1590\n"
     ]
    }
   ],
   "source": [
    "total_model = model_build_summary(x_train.shape[1], x_train, x_test, y_test)"
   ]
  },
  {
   "cell_type": "code",
   "execution_count": 30,
   "id": "2007123b",
   "metadata": {
    "scrolled": true
   },
   "outputs": [
    {
     "name": "stdout",
     "output_type": "stream",
     "text": [
      "Epoch 1/75\n",
      "2129/2129 [==============================] - 20s 9ms/step - loss: 1.4118 - accuracy: 0.4354 - val_loss: 1.1429 - val_accuracy: 0.5470 - lr: 0.0010\n",
      "Epoch 2/75\n",
      "2129/2129 [==============================] - 18s 8ms/step - loss: 1.1826 - accuracy: 0.5317 - val_loss: 1.1495 - val_accuracy: 0.5332 - lr: 0.0010\n",
      "Epoch 3/75\n",
      "2129/2129 [==============================] - 18s 8ms/step - loss: 1.1084 - accuracy: 0.5587 - val_loss: 1.0457 - val_accuracy: 0.5885 - lr: 0.0010\n",
      "Epoch 4/75\n",
      "2129/2129 [==============================] - 18s 8ms/step - loss: 1.0555 - accuracy: 0.5825 - val_loss: 0.9537 - val_accuracy: 0.6278 - lr: 0.0010\n",
      "Epoch 5/75\n",
      "2129/2129 [==============================] - 18s 8ms/step - loss: 1.0100 - accuracy: 0.6033 - val_loss: 0.9334 - val_accuracy: 0.6353 - lr: 0.0010\n",
      "Epoch 6/75\n",
      "2129/2129 [==============================] - 18s 8ms/step - loss: 0.9631 - accuracy: 0.6221 - val_loss: 0.8809 - val_accuracy: 0.6521 - lr: 0.0010\n",
      "Epoch 7/75\n",
      "2129/2129 [==============================] - 18s 8ms/step - loss: 0.9175 - accuracy: 0.6407 - val_loss: 0.8695 - val_accuracy: 0.6598 - lr: 0.0010\n",
      "Epoch 8/75\n",
      "2129/2129 [==============================] - 18s 8ms/step - loss: 0.8775 - accuracy: 0.6611 - val_loss: 0.8083 - val_accuracy: 0.6809 - lr: 0.0010\n",
      "Epoch 9/75\n",
      "2129/2129 [==============================] - 18s 8ms/step - loss: 0.8405 - accuracy: 0.6735 - val_loss: 0.7916 - val_accuracy: 0.6921 - lr: 0.0010\n",
      "Epoch 10/75\n",
      "2129/2129 [==============================] - 18s 8ms/step - loss: 0.8010 - accuracy: 0.6907 - val_loss: 0.7688 - val_accuracy: 0.7054 - lr: 0.0010\n",
      "Epoch 11/75\n",
      "2129/2129 [==============================] - 18s 8ms/step - loss: 0.7719 - accuracy: 0.7034 - val_loss: 0.7366 - val_accuracy: 0.7160 - lr: 0.0010\n",
      "Epoch 12/75\n",
      "2129/2129 [==============================] - 18s 8ms/step - loss: 0.7383 - accuracy: 0.7178 - val_loss: 0.7152 - val_accuracy: 0.7279 - lr: 0.0010\n",
      "Epoch 13/75\n",
      "2129/2129 [==============================] - 18s 8ms/step - loss: 0.7088 - accuracy: 0.7314 - val_loss: 0.6978 - val_accuracy: 0.7311 - lr: 0.0010\n",
      "Epoch 14/75\n",
      "2129/2129 [==============================] - 18s 8ms/step - loss: 0.6793 - accuracy: 0.7439 - val_loss: 0.6629 - val_accuracy: 0.7492 - lr: 0.0010\n",
      "Epoch 15/75\n",
      "2129/2129 [==============================] - 18s 8ms/step - loss: 0.6545 - accuracy: 0.7526 - val_loss: 0.6502 - val_accuracy: 0.7549 - lr: 0.0010\n",
      "Epoch 16/75\n",
      "2129/2129 [==============================] - 18s 8ms/step - loss: 0.6284 - accuracy: 0.7641 - val_loss: 0.6460 - val_accuracy: 0.7595 - lr: 0.0010\n",
      "Epoch 17/75\n",
      "2129/2129 [==============================] - 18s 8ms/step - loss: 0.6090 - accuracy: 0.7731 - val_loss: 0.6131 - val_accuracy: 0.7725 - lr: 0.0010\n",
      "Epoch 18/75\n",
      "2129/2129 [==============================] - 18s 8ms/step - loss: 0.5873 - accuracy: 0.7826 - val_loss: 0.5914 - val_accuracy: 0.7821 - lr: 0.0010\n",
      "Epoch 19/75\n",
      "2129/2129 [==============================] - 18s 8ms/step - loss: 0.5643 - accuracy: 0.7912 - val_loss: 0.5631 - val_accuracy: 0.7967 - lr: 0.0010\n",
      "Epoch 20/75\n",
      "2129/2129 [==============================] - 18s 9ms/step - loss: 0.5496 - accuracy: 0.7974 - val_loss: 0.5598 - val_accuracy: 0.7951 - lr: 0.0010\n",
      "Epoch 21/75\n",
      "2129/2129 [==============================] - 18s 8ms/step - loss: 0.5352 - accuracy: 0.8038 - val_loss: 0.5463 - val_accuracy: 0.8006 - lr: 0.0010\n",
      "Epoch 22/75\n",
      "2129/2129 [==============================] - 18s 8ms/step - loss: 0.5148 - accuracy: 0.8102 - val_loss: 0.5310 - val_accuracy: 0.8114 - lr: 0.0010\n",
      "Epoch 23/75\n",
      "2129/2129 [==============================] - 17s 8ms/step - loss: 0.5017 - accuracy: 0.8158 - val_loss: 0.5141 - val_accuracy: 0.8194 - lr: 0.0010\n",
      "Epoch 24/75\n",
      "2129/2129 [==============================] - 17s 8ms/step - loss: 0.4868 - accuracy: 0.8220 - val_loss: 0.5064 - val_accuracy: 0.8212 - lr: 0.0010\n",
      "Epoch 25/75\n",
      "2129/2129 [==============================] - 17s 8ms/step - loss: 0.4688 - accuracy: 0.8296 - val_loss: 0.5140 - val_accuracy: 0.8207 - lr: 0.0010\n",
      "Epoch 26/75\n",
      "2129/2129 [==============================] - 18s 8ms/step - loss: 0.4639 - accuracy: 0.8316 - val_loss: 0.5183 - val_accuracy: 0.8176 - lr: 0.0010\n",
      "Epoch 27/75\n",
      "2129/2129 [==============================] - 18s 9ms/step - loss: 0.4466 - accuracy: 0.8394 - val_loss: 0.4775 - val_accuracy: 0.8329 - lr: 0.0010\n",
      "Epoch 28/75\n",
      "2129/2129 [==============================] - 18s 9ms/step - loss: 0.4421 - accuracy: 0.8418 - val_loss: 0.4879 - val_accuracy: 0.8317 - lr: 0.0010\n",
      "Epoch 29/75\n",
      "2129/2129 [==============================] - 20s 9ms/step - loss: 0.4283 - accuracy: 0.8448 - val_loss: 0.4750 - val_accuracy: 0.8355 - lr: 0.0010\n",
      "Epoch 30/75\n",
      "2129/2129 [==============================] - 18s 8ms/step - loss: 0.4169 - accuracy: 0.8508 - val_loss: 0.4812 - val_accuracy: 0.8356 - lr: 0.0010\n",
      "Epoch 31/75\n",
      "2129/2129 [==============================] - 19s 9ms/step - loss: 0.4137 - accuracy: 0.8516 - val_loss: 0.4700 - val_accuracy: 0.8396 - lr: 0.0010\n",
      "Epoch 32/75\n",
      "2129/2129 [==============================] - 18s 8ms/step - loss: 0.4036 - accuracy: 0.8572 - val_loss: 0.4587 - val_accuracy: 0.8448 - lr: 0.0010\n",
      "Epoch 33/75\n",
      "2129/2129 [==============================] - 18s 8ms/step - loss: 0.3879 - accuracy: 0.8619 - val_loss: 0.4464 - val_accuracy: 0.8480 - lr: 0.0010\n",
      "Epoch 34/75\n",
      "2129/2129 [==============================] - 18s 9ms/step - loss: 0.3793 - accuracy: 0.8642 - val_loss: 0.4575 - val_accuracy: 0.8483 - lr: 0.0010\n",
      "Epoch 35/75\n",
      "2129/2129 [==============================] - 18s 8ms/step - loss: 0.3759 - accuracy: 0.8649 - val_loss: 0.4536 - val_accuracy: 0.8523 - lr: 0.0010\n",
      "Epoch 36/75\n",
      "2129/2129 [==============================] - 18s 8ms/step - loss: 0.3720 - accuracy: 0.8682 - val_loss: 0.4466 - val_accuracy: 0.8551 - lr: 0.0010\n",
      "Epoch 37/75\n",
      "2129/2129 [==============================] - 18s 8ms/step - loss: 0.3622 - accuracy: 0.8721 - val_loss: 0.4551 - val_accuracy: 0.8509 - lr: 0.0010\n",
      "Epoch 38/75\n",
      "2129/2129 [==============================] - 18s 8ms/step - loss: 0.3458 - accuracy: 0.8772 - val_loss: 0.4266 - val_accuracy: 0.8551 - lr: 0.0010\n",
      "Epoch 39/75\n",
      "2129/2129 [==============================] - 18s 8ms/step - loss: 0.3445 - accuracy: 0.8794 - val_loss: 0.4262 - val_accuracy: 0.8578 - lr: 0.0010\n",
      "Epoch 40/75\n",
      "2129/2129 [==============================] - 18s 9ms/step - loss: 0.3444 - accuracy: 0.8774 - val_loss: 0.4140 - val_accuracy: 0.8615 - lr: 0.0010\n",
      "Epoch 41/75\n",
      "2129/2129 [==============================] - 18s 9ms/step - loss: 0.3340 - accuracy: 0.8815 - val_loss: 0.4258 - val_accuracy: 0.8626 - lr: 0.0010\n",
      "Epoch 42/75\n",
      "2129/2129 [==============================] - 18s 9ms/step - loss: 0.3313 - accuracy: 0.8838 - val_loss: 0.4307 - val_accuracy: 0.8606 - lr: 0.0010\n",
      "Epoch 43/75\n",
      "2129/2129 [==============================] - 18s 8ms/step - loss: 0.3167 - accuracy: 0.8875 - val_loss: 0.4056 - val_accuracy: 0.8704 - lr: 0.0010\n",
      "Epoch 44/75\n",
      "2129/2129 [==============================] - 18s 8ms/step - loss: 0.3163 - accuracy: 0.8889 - val_loss: 0.4148 - val_accuracy: 0.8650 - lr: 0.0010\n",
      "Epoch 45/75\n",
      "2129/2129 [==============================] - 18s 9ms/step - loss: 0.3105 - accuracy: 0.8898 - val_loss: 0.4695 - val_accuracy: 0.8538 - lr: 0.0010\n",
      "Epoch 46/75\n",
      "2129/2129 [==============================] - 18s 9ms/step - loss: 0.3116 - accuracy: 0.8914 - val_loss: 0.4147 - val_accuracy: 0.8682 - lr: 0.0010\n",
      "Epoch 47/75\n",
      "2129/2129 [==============================] - 18s 9ms/step - loss: 0.3035 - accuracy: 0.8930 - val_loss: 0.4118 - val_accuracy: 0.8713 - lr: 0.0010\n",
      "Epoch 48/75\n",
      "2129/2129 [==============================] - 19s 9ms/step - loss: 0.2994 - accuracy: 0.8960 - val_loss: 0.4052 - val_accuracy: 0.8721 - lr: 0.0010\n",
      "Epoch 49/75\n",
      "2129/2129 [==============================] - 19s 9ms/step - loss: 0.2909 - accuracy: 0.8980 - val_loss: 0.4107 - val_accuracy: 0.8735 - lr: 0.0010\n",
      "Epoch 50/75\n",
      "2129/2129 [==============================] - 19s 9ms/step - loss: 0.2943 - accuracy: 0.8973 - val_loss: 0.4192 - val_accuracy: 0.8706 - lr: 0.0010\n",
      "Epoch 51/75\n",
      "2129/2129 [==============================] - 18s 9ms/step - loss: 0.2850 - accuracy: 0.9006 - val_loss: 0.4046 - val_accuracy: 0.8728 - lr: 0.0010\n",
      "Epoch 52/75\n",
      "2129/2129 [==============================] - 18s 9ms/step - loss: 0.2770 - accuracy: 0.9041 - val_loss: 0.4056 - val_accuracy: 0.8753 - lr: 0.0010\n",
      "Epoch 53/75\n",
      "2129/2129 [==============================] - 18s 9ms/step - loss: 0.2773 - accuracy: 0.9037 - val_loss: 0.3995 - val_accuracy: 0.8786 - lr: 0.0010\n",
      "Epoch 54/75\n",
      "2129/2129 [==============================] - 18s 9ms/step - loss: 0.2781 - accuracy: 0.9027 - val_loss: 0.4083 - val_accuracy: 0.8755 - lr: 0.0010\n",
      "Epoch 55/75\n",
      "2129/2129 [==============================] - 19s 9ms/step - loss: 0.2707 - accuracy: 0.9064 - val_loss: 0.4088 - val_accuracy: 0.8781 - lr: 0.0010\n",
      "Epoch 56/75\n",
      "2129/2129 [==============================] - 18s 9ms/step - loss: 0.2662 - accuracy: 0.9070 - val_loss: 0.4490 - val_accuracy: 0.8653 - lr: 0.0010\n",
      "Epoch 57/75\n",
      "2129/2129 [==============================] - 18s 9ms/step - loss: 0.2626 - accuracy: 0.9084 - val_loss: 0.4061 - val_accuracy: 0.8767 - lr: 0.0010\n",
      "Epoch 58/75\n",
      "2129/2129 [==============================] - 18s 9ms/step - loss: 0.2634 - accuracy: 0.9091 - val_loss: 0.4086 - val_accuracy: 0.8768 - lr: 0.0010\n",
      "Epoch 59/75\n",
      "2129/2129 [==============================] - 18s 9ms/step - loss: 0.2589 - accuracy: 0.9109 - val_loss: 0.4365 - val_accuracy: 0.8702 - lr: 0.0010\n",
      "Epoch 60/75\n",
      "2129/2129 [==============================] - 18s 9ms/step - loss: 0.2504 - accuracy: 0.9123 - val_loss: 0.4148 - val_accuracy: 0.8792 - lr: 0.0010\n",
      "Epoch 61/75\n",
      "2129/2129 [==============================] - 18s 8ms/step - loss: 0.2513 - accuracy: 0.9136 - val_loss: 0.4134 - val_accuracy: 0.8771 - lr: 0.0010\n",
      "Epoch 62/75\n",
      "2129/2129 [==============================] - 18s 8ms/step - loss: 0.2482 - accuracy: 0.9137 - val_loss: 0.4119 - val_accuracy: 0.8802 - lr: 0.0010\n",
      "Epoch 63/75\n",
      "2129/2129 [==============================] - 18s 8ms/step - loss: 0.2466 - accuracy: 0.9134 - val_loss: 0.4162 - val_accuracy: 0.8794 - lr: 0.0010\n",
      "Epoch 64/75\n",
      "2129/2129 [==============================] - 18s 8ms/step - loss: 0.2416 - accuracy: 0.9165 - val_loss: 0.4217 - val_accuracy: 0.8788 - lr: 0.0010\n",
      "Epoch 65/75\n",
      "2129/2129 [==============================] - 18s 8ms/step - loss: 0.2415 - accuracy: 0.9165 - val_loss: 0.4184 - val_accuracy: 0.8822 - lr: 0.0010\n",
      "Epoch 66/75\n",
      "2129/2129 [==============================] - 18s 8ms/step - loss: 0.2427 - accuracy: 0.9176 - val_loss: 0.4176 - val_accuracy: 0.8803 - lr: 0.0010\n",
      "Epoch 67/75\n",
      "2129/2129 [==============================] - 18s 8ms/step - loss: 0.2429 - accuracy: 0.9180 - val_loss: 0.4137 - val_accuracy: 0.8788 - lr: 0.0010\n",
      "Epoch 68/75\n",
      "2129/2129 [==============================] - 18s 8ms/step - loss: 0.2342 - accuracy: 0.9209 - val_loss: 0.4113 - val_accuracy: 0.8793 - lr: 0.0010\n",
      "Epoch 69/75\n",
      "2129/2129 [==============================] - 18s 8ms/step - loss: 0.2255 - accuracy: 0.9231 - val_loss: 0.4160 - val_accuracy: 0.8828 - lr: 0.0010\n",
      "Epoch 70/75\n",
      "2129/2129 [==============================] - 18s 8ms/step - loss: 0.2310 - accuracy: 0.9212 - val_loss: 0.4233 - val_accuracy: 0.8801 - lr: 0.0010\n",
      "Epoch 71/75\n",
      "2129/2129 [==============================] - 18s 8ms/step - loss: 0.2290 - accuracy: 0.9206 - val_loss: 0.4110 - val_accuracy: 0.8830 - lr: 0.0010\n",
      "Epoch 72/75\n",
      "2129/2129 [==============================] - 18s 8ms/step - loss: 0.2215 - accuracy: 0.9242 - val_loss: 0.4086 - val_accuracy: 0.8838 - lr: 0.0010\n",
      "Epoch 73/75\n",
      "2129/2129 [==============================] - 18s 8ms/step - loss: 0.2209 - accuracy: 0.9240 - val_loss: 0.4193 - val_accuracy: 0.8841 - lr: 0.0010\n",
      "Epoch 74/75\n",
      "2129/2129 [==============================] - 18s 8ms/step - loss: 0.2242 - accuracy: 0.9227 - val_loss: 0.4032 - val_accuracy: 0.8845 - lr: 0.0010\n",
      "Epoch 75/75\n",
      "2129/2129 [==============================] - 18s 8ms/step - loss: 0.2235 - accuracy: 0.9230 - val_loss: 0.4206 - val_accuracy: 0.8835 - lr: 0.0010\n"
     ]
    }
   ],
   "source": [
    "history = total_model.fit(x_train, y_train, batch_size=batch_size, epochs=n_epochs, validation_data=(x_test, y_test), callbacks=[rlrp])"
   ]
  },
  {
   "cell_type": "code",
   "execution_count": 31,
   "id": "4760bfb1",
   "metadata": {},
   "outputs": [],
   "source": [
    "def show_graphs(history):\n",
    "    epochs = [i for i in range(n_epochs)]\n",
    "    fig , ax = plt.subplots(1,2)\n",
    "    train_acc = history.history['accuracy']\n",
    "    train_loss = history.history['loss']\n",
    "    test_acc = history.history['val_accuracy']\n",
    "    test_loss = history.history['val_loss']\n",
    "\n",
    "    fig.set_size_inches(30,12)\n",
    "    ax[0].plot(epochs , train_loss , label = 'Training Loss')\n",
    "    ax[0].plot(epochs , test_loss , label = 'Testing Loss')\n",
    "    ax[0].set_title('Training & Testing Loss')\n",
    "    ax[0].legend()\n",
    "    ax[0].set_xlabel(\"Epochs\")\n",
    "\n",
    "    ax[1].plot(epochs , train_acc , label = 'Training Accuracy')\n",
    "    ax[1].plot(epochs , test_acc , label = 'Testing Accuracy')\n",
    "    ax[1].set_title('Training & Testing Accuracy')\n",
    "    ax[1].legend()\n",
    "    ax[1].set_xlabel(\"Epochs\")\n",
    "    plt.show()"
   ]
  },
  {
   "cell_type": "code",
   "execution_count": 32,
   "id": "6c264912",
   "metadata": {},
   "outputs": [
    {
     "name": "stdout",
     "output_type": "stream",
     "text": [
      "Mixed-gender emotions training Accuracy: 97.15%\n",
      "Mixed-gender emotions testing Accuracy: 88.35%\n"
     ]
    }
   ],
   "source": [
    "score = total_model.evaluate(x_train,y_train, verbose = 0)\n",
    "print(\"Mixed-gender emotions training Accuracy: {0:.2%}\".format(score[1]))\n",
    "\n",
    "score = total_model.evaluate(x_test, y_test, verbose=0)\n",
    "print(\"Mixed-gender emotions testing Accuracy: {0:.2%}\".format(score[1]))"
   ]
  },
  {
   "cell_type": "code",
   "execution_count": 128,
   "id": "1fa8cfbf",
   "metadata": {},
   "outputs": [
    {
     "name": "stdout",
     "output_type": "stream",
     "text": [
      "533/533 [==============================] - 3s 6ms/step\n"
     ]
    },
    {
     "data": {
      "text/plain": [
       "array([[1.00000000e+00, 0.00000000e+00, 0.00000000e+00, 0.00000000e+00,\n",
       "        0.00000000e+00, 0.00000000e+00, 0.00000000e+00, 0.00000000e+00],\n",
       "       [3.11790567e-37, 0.00000000e+00, 1.29304271e-26, 3.69142367e-28,\n",
       "        6.87669191e-32, 3.57447831e-37, 1.12302738e-37, 1.00000000e+00],\n",
       "       [2.78647669e-04, 2.37627785e-21, 6.54141419e-04, 2.05127046e-01,\n",
       "        7.86685586e-01, 1.90544652e-03, 5.34675270e-03, 2.37702579e-06],\n",
       "       [8.22684050e-01, 0.00000000e+00, 1.19568085e-05, 1.59002706e-01,\n",
       "        1.83010306e-02, 5.46010135e-08, 4.82059050e-08, 1.89219108e-07],\n",
       "       [1.57505216e-03, 9.10766022e-17, 9.94247794e-01, 9.58542980e-04,\n",
       "        3.87408450e-04, 1.02957897e-03, 1.80164073e-03, 4.80251714e-08],\n",
       "       [1.00000000e+00, 0.00000000e+00, 0.00000000e+00, 0.00000000e+00,\n",
       "        0.00000000e+00, 0.00000000e+00, 0.00000000e+00, 0.00000000e+00],\n",
       "       [9.72194830e-04, 7.67619769e-31, 7.18957817e-05, 4.28601056e-01,\n",
       "        5.70302904e-01, 8.59861666e-06, 4.31185690e-05, 2.44627984e-07],\n",
       "       [1.21184587e-02, 5.43130604e-14, 5.11045232e-02, 7.27296481e-03,\n",
       "        4.20087397e-01, 5.02857625e-01, 6.54470734e-03, 1.42892695e-05],\n",
       "       [2.41235199e-07, 4.06468843e-32, 5.29399724e-04, 9.86528516e-01,\n",
       "        3.47159826e-03, 6.77888165e-05, 9.40239429e-03, 7.05657375e-13],\n",
       "       [2.69461509e-07, 0.00000000e+00, 1.24981627e-03, 2.64169397e-08,\n",
       "        1.10900059e-01, 8.87849212e-01, 6.10937548e-07, 7.70087831e-19],\n",
       "       [8.42592344e-02, 4.19634383e-10, 2.00481012e-01, 4.71002748e-03,\n",
       "        6.96671531e-02, 6.34385884e-01, 6.21325709e-03, 2.83414876e-04],\n",
       "       [6.16054479e-07, 1.28380386e-02, 7.96293753e-05, 7.11135408e-06,\n",
       "        1.90617342e-04, 9.79229450e-01, 7.65034277e-03, 4.21447976e-06],\n",
       "       [9.99675870e-01, 0.00000000e+00, 2.03674631e-07, 2.92856450e-04,\n",
       "        3.11024996e-05, 9.48685464e-10, 2.83797014e-11, 8.55301420e-12],\n",
       "       [1.00000000e+00, 0.00000000e+00, 1.06929883e-19, 6.62144742e-19,\n",
       "        4.28500009e-14, 1.49897506e-22, 2.38166580e-33, 2.92593470e-34],\n",
       "       [1.00000000e+00, 0.00000000e+00, 1.44147576e-11, 2.51597720e-14,\n",
       "        3.43365256e-13, 1.87447614e-17, 2.31894965e-22, 1.78620576e-22],\n",
       "       [8.03633249e-09, 3.15832137e-18, 2.19764863e-03, 4.45659868e-02,\n",
       "        6.01608645e-06, 2.10720988e-04, 9.53019559e-01, 1.51689561e-09],\n",
       "       [6.25493529e-04, 1.05095172e-13, 2.45881036e-01, 3.51903558e-01,\n",
       "        4.89295386e-02, 4.23648953e-02, 3.10286999e-01, 8.45224258e-06],\n",
       "       [1.59536660e-06, 0.00000000e+00, 6.51333039e-07, 5.10712539e-08,\n",
       "        9.99993086e-01, 4.68897588e-06, 1.01609984e-10, 8.36082776e-14],\n",
       "       [9.99999881e-01, 0.00000000e+00, 1.63822818e-07, 2.40329675e-13,\n",
       "        1.11297460e-08, 6.40766997e-12, 2.40126106e-18, 2.58257285e-18],\n",
       "       [2.99899284e-07, 0.00000000e+00, 1.87766443e-06, 9.99773204e-01,\n",
       "        2.20903094e-04, 3.17045390e-09, 3.64465086e-06, 1.53998689e-12]],\n",
       "      dtype=float32)"
      ]
     },
     "execution_count": 128,
     "metadata": {},
     "output_type": "execute_result"
    }
   ],
   "source": [
    "predall_test = total_model.predict(x_test)\n",
    "predall_test[:20]"
   ]
  },
  {
   "cell_type": "code",
   "execution_count": 29,
   "id": "056b281f",
   "metadata": {
    "scrolled": false
   },
   "outputs": [
    {
     "name": "stdout",
     "output_type": "stream",
     "text": [
      "533/533 [==============================] - 3s 6ms/step\n"
     ]
    },
    {
     "data": {
      "text/html": [
       "<div>\n",
       "<style scoped>\n",
       "    .dataframe tbody tr th:only-of-type {\n",
       "        vertical-align: middle;\n",
       "    }\n",
       "\n",
       "    .dataframe tbody tr th {\n",
       "        vertical-align: top;\n",
       "    }\n",
       "\n",
       "    .dataframe thead th {\n",
       "        text-align: right;\n",
       "    }\n",
       "</style>\n",
       "<table border=\"1\" class=\"dataframe\">\n",
       "  <thead>\n",
       "    <tr style=\"text-align: right;\">\n",
       "      <th></th>\n",
       "      <th>Predicted Labels</th>\n",
       "      <th>Actual Labels</th>\n",
       "    </tr>\n",
       "  </thead>\n",
       "  <tbody>\n",
       "    <tr>\n",
       "      <th>0</th>\n",
       "      <td>disgust</td>\n",
       "      <td>angry</td>\n",
       "    </tr>\n",
       "    <tr>\n",
       "      <th>1</th>\n",
       "      <td>disgust</td>\n",
       "      <td>surprise</td>\n",
       "    </tr>\n",
       "    <tr>\n",
       "      <th>2</th>\n",
       "      <td>disgust</td>\n",
       "      <td>fear</td>\n",
       "    </tr>\n",
       "    <tr>\n",
       "      <th>3</th>\n",
       "      <td>happy</td>\n",
       "      <td>fear</td>\n",
       "    </tr>\n",
       "    <tr>\n",
       "      <th>4</th>\n",
       "      <td>disgust</td>\n",
       "      <td>disgust</td>\n",
       "    </tr>\n",
       "    <tr>\n",
       "      <th>5</th>\n",
       "      <td>disgust</td>\n",
       "      <td>angry</td>\n",
       "    </tr>\n",
       "    <tr>\n",
       "      <th>6</th>\n",
       "      <td>disgust</td>\n",
       "      <td>happy</td>\n",
       "    </tr>\n",
       "    <tr>\n",
       "      <th>7</th>\n",
       "      <td>disgust</td>\n",
       "      <td>neutral</td>\n",
       "    </tr>\n",
       "    <tr>\n",
       "      <th>8</th>\n",
       "      <td>disgust</td>\n",
       "      <td>fear</td>\n",
       "    </tr>\n",
       "    <tr>\n",
       "      <th>9</th>\n",
       "      <td>disgust</td>\n",
       "      <td>neutral</td>\n",
       "    </tr>\n",
       "    <tr>\n",
       "      <th>10</th>\n",
       "      <td>disgust</td>\n",
       "      <td>happy</td>\n",
       "    </tr>\n",
       "    <tr>\n",
       "      <th>11</th>\n",
       "      <td>disgust</td>\n",
       "      <td>neutral</td>\n",
       "    </tr>\n",
       "    <tr>\n",
       "      <th>12</th>\n",
       "      <td>disgust</td>\n",
       "      <td>angry</td>\n",
       "    </tr>\n",
       "    <tr>\n",
       "      <th>13</th>\n",
       "      <td>happy</td>\n",
       "      <td>angry</td>\n",
       "    </tr>\n",
       "    <tr>\n",
       "      <th>14</th>\n",
       "      <td>disgust</td>\n",
       "      <td>angry</td>\n",
       "    </tr>\n",
       "    <tr>\n",
       "      <th>15</th>\n",
       "      <td>disgust</td>\n",
       "      <td>fear</td>\n",
       "    </tr>\n",
       "    <tr>\n",
       "      <th>16</th>\n",
       "      <td>disgust</td>\n",
       "      <td>disgust</td>\n",
       "    </tr>\n",
       "    <tr>\n",
       "      <th>17</th>\n",
       "      <td>disgust</td>\n",
       "      <td>happy</td>\n",
       "    </tr>\n",
       "    <tr>\n",
       "      <th>18</th>\n",
       "      <td>disgust</td>\n",
       "      <td>angry</td>\n",
       "    </tr>\n",
       "    <tr>\n",
       "      <th>19</th>\n",
       "      <td>disgust</td>\n",
       "      <td>fear</td>\n",
       "    </tr>\n",
       "  </tbody>\n",
       "</table>\n",
       "</div>"
      ],
      "text/plain": [
       "   Predicted Labels Actual Labels\n",
       "0           disgust         angry\n",
       "1           disgust      surprise\n",
       "2           disgust          fear\n",
       "3             happy          fear\n",
       "4           disgust       disgust\n",
       "5           disgust         angry\n",
       "6           disgust         happy\n",
       "7           disgust       neutral\n",
       "8           disgust          fear\n",
       "9           disgust       neutral\n",
       "10          disgust         happy\n",
       "11          disgust       neutral\n",
       "12          disgust         angry\n",
       "13            happy         angry\n",
       "14          disgust         angry\n",
       "15          disgust          fear\n",
       "16          disgust       disgust\n",
       "17          disgust         happy\n",
       "18          disgust         angry\n",
       "19          disgust          fear"
      ]
     },
     "execution_count": 29,
     "metadata": {},
     "output_type": "execute_result"
    }
   ],
   "source": [
    "# predicting on test data.\n",
    "predall_test = model.predict(x_test)\n",
    "y_predall = encoder.inverse_transform(predall_test)\n",
    "y_testall = encoder.inverse_transform(y_test)\n",
    "\n",
    "df = pd.DataFrame(columns=['Predicted Labels', 'Actual Labels'])\n",
    "df['Predicted Labels'] = y_predall.flatten()\n",
    "df['Actual Labels'] = y_testall.flatten()\n",
    "\n",
    "df.head(20)"
   ]
  },
  {
   "cell_type": "code",
   "execution_count": 34,
   "id": "0dfa9704",
   "metadata": {},
   "outputs": [
    {
     "name": "stdout",
     "output_type": "stream",
     "text": [
      "              precision    recall  f1-score   support\n",
      "\n",
      "       angry       0.89      0.94      0.92      2707\n",
      "        calm       0.93      0.94      0.94       273\n",
      "     disgust       0.87      0.86      0.87      2745\n",
      "        fear       0.87      0.87      0.87      2642\n",
      "       happy       0.87      0.86      0.86      2686\n",
      "     neutral       0.89      0.86      0.87      2428\n",
      "         sad       0.88      0.87      0.88      2684\n",
      "    surprise       0.96      0.96      0.96       862\n",
      "\n",
      "    accuracy                           0.88     17027\n",
      "   macro avg       0.90      0.90      0.90     17027\n",
      "weighted avg       0.88      0.88      0.88     17027\n",
      "\n"
     ]
    }
   ],
   "source": [
    "print(classification_report(y_testall, y_predall))"
   ]
  },
  {
   "cell_type": "code",
   "execution_count": 35,
   "id": "e5a3b1be",
   "metadata": {},
   "outputs": [
    {
     "data": {
      "image/png": "[encoded data removed]",
      "text/plain": [
       "<Figure size 864x720 with 2 Axes>"
      ]
     },
     "metadata": {},
     "output_type": "display_data"
    }
   ],
   "source": [
    "cm = confusion_matrix(y_testall, y_predall)\n",
    "plt.figure(figsize = (12, 10))\n",
    "cm = pd.DataFrame(cm , index = [i for i in encoder.categories_] , columns = [i for i in encoder.categories_])\n",
    "sns.heatmap(cm, linecolor='white', cmap='Blues', linewidth=1, annot=True, fmt='')\n",
    "plt.title('Confusion Matrix for All Emotions', size=20)\n",
    "plt.xlabel('Predicted Labels', size=14)\n",
    "plt.ylabel('Actual Labels', size=14)\n",
    "plt.show()"
   ]
  },
  {
   "cell_type": "code",
   "execution_count": 36,
   "id": "d65ff9d8",
   "metadata": {},
   "outputs": [
    {
     "data": {
      "image/png": "[encoded data removed]",
      "text/plain": [
       "<Figure size 2160x864 with 2 Axes>"
      ]
     },
     "metadata": {},
     "output_type": "display_data"
    }
   ],
   "source": [
    "show_graphs(history)"
   ]
  },
  {
   "cell_type": "code",
   "execution_count": 38,
   "id": "87d16d89",
   "metadata": {},
   "outputs": [],
   "source": [
    "# Save Model\n",
    "total_model.save('models/modelV2.h5')"
   ]
  },
  {
   "cell_type": "markdown",
   "id": "fc0189ce",
   "metadata": {},
   "source": [
    "### Inference"
   ]
  },
  {
   "cell_type": "code",
   "execution_count": 2,
   "id": "eeda9adb",
   "metadata": {},
   "outputs": [],
   "source": [
    "# Load Model\n",
    "model = load_model('models/modelV2.h5')"
   ]
  },
  {
   "cell_type": "code",
   "execution_count": 3,
   "id": "701e9b27",
   "metadata": {},
   "outputs": [
    {
     "data": {
      "text/plain": [
       "'Sad'"
      ]
     },
     "execution_count": 3,
     "metadata": {},
     "output_type": "execute_result"
    }
   ],
   "source": [
    "data, sample_rate = librosa.load('happy.wav', duration=3, offset=0.5, res_type='kaiser_fast')\n",
    "\n",
    "classes = {0:'Angry', 1:'Calm', 2:'Disgust', 3:'Fear', 4:'Happy', 5:'Neutral', 6:'Sad', 7:'Surprise'}\n",
    "\n",
    "result = np.array([])\n",
    "mfccs = librosa.feature.mfcc(y=data, sr=22050, n_mfcc=58)\n",
    "mfccs_processed = np.mean(mfccs.T,axis=0)\n",
    "result = np.array(mfccs_processed)\n",
    "\n",
    "preds = model(result.reshape(1, 58, 1))\n",
    "pred = classes[np.argmax(preds)]\n",
    "pred"
   ]
  },
  {
   "cell_type": "code",
   "execution_count": 4,
   "id": "01d49087",
   "metadata": {},
   "outputs": [],
   "source": [
    "mal_path = 'Male_features.csv'\n",
    "fem_path = 'Female_features.csv'\n",
    "\n",
    "Males_Features = pd.read_csv(mal_path)\n",
    "Females_Features = pd.read_csv(fem_path)"
   ]
  },
  {
   "cell_type": "code",
   "execution_count": 5,
   "id": "4fd09d5b",
   "metadata": {},
   "outputs": [
    {
     "data": {
      "text/plain": [
       "((68107, 58), (68107, 8), (17027, 58), (17027, 8))"
      ]
     },
     "execution_count": 5,
     "metadata": {},
     "output_type": "execute_result"
    }
   ],
   "source": [
    "female_X = Females_Features.iloc[: ,:-1].values\n",
    "female_Y = Females_Features['labels'].values\n",
    "male_X = Males_Features.iloc[: ,:-1].values\n",
    "male_Y = Males_Features['labels'].values\n",
    "\n",
    "encoder = OneHotEncoder()\n",
    "female_Y = encoder.fit_transform(np.array(female_Y).reshape(-1,1)).toarray()\n",
    "male_Y = encoder.fit_transform(np.array(male_Y).reshape(-1,1)).toarray()\n",
    "\n",
    "X = np.concatenate((female_X, male_X))\n",
    "Y = np.concatenate((female_Y, male_Y))\n",
    "\n",
    "x_train, x_test, y_train, y_test = train_test_split(X, Y, random_state=0, test_size=0.20, shuffle=True)\n",
    "x_train.shape, y_train.shape, x_test.shape, y_test.shape"
   ]
  },
  {
   "cell_type": "code",
   "execution_count": 6,
   "id": "9778f2b6",
   "metadata": {},
   "outputs": [],
   "source": [
    "def extract_features(data):\n",
    "    result = np.array([])\n",
    "    \n",
    "    #mfccs = librosa.feature.mfcc(y=data, sr=22050, n_mfcc=42) #42 mfcc so we get frames of ~60 ms\n",
    "    mfccs = librosa.feature.mfcc(y=data, sr=22050, n_mfcc=58)\n",
    "    mfccs_processed = np.mean(mfccs.T,axis=0)\n",
    "    result = np.array(mfccs_processed)\n",
    "    \n",
    "    return result"
   ]
  },
  {
   "cell_type": "code",
   "execution_count": 7,
   "id": "8ddb447d",
   "metadata": {},
   "outputs": [
    {
     "name": "stderr",
     "output_type": "stream",
     "text": [
      "C:\\Users\\ASWIN\\anaconda3\\lib\\site-packages\\librosa\\util\\decorators.py:88: UserWarning: n_fft=2048 is too small for input signal of length=58\n",
      "  return f(*args, **kwargs)\n"
     ]
    }
   ],
   "source": [
    "result = []\n",
    "\n",
    "for i in range(10):\n",
    "    result.append(extract_features(x_test[i]))"
   ]
  },
  {
   "cell_type": "code",
   "execution_count": 8,
   "id": "a2e510ec",
   "metadata": {},
   "outputs": [
    {
     "data": {
      "text/plain": [
       "(10, 58)"
      ]
     },
     "execution_count": 8,
     "metadata": {},
     "output_type": "execute_result"
    }
   ],
   "source": [
    "result = np.array(result)\n",
    "result.shape"
   ]
  },
  {
   "cell_type": "code",
   "execution_count": 9,
   "id": "05943fc6",
   "metadata": {
    "scrolled": true
   },
   "outputs": [
    {
     "name": "stdout",
     "output_type": "stream",
     "text": [
      "Disgust\n",
      "Disgust\n",
      "Disgust\n",
      "Happy\n",
      "Disgust\n",
      "Disgust\n",
      "Disgust\n",
      "Disgust\n",
      "Disgust\n",
      "Disgust\n"
     ]
    }
   ],
   "source": [
    "for i in range(10):\n",
    "    preds = model(result[i].reshape(1, 58, 1))\n",
    "    pred = classes[np.argmax(preds)]\n",
    "    print(pred)"
   ]
  },
  {
   "cell_type": "code",
   "execution_count": 12,
   "id": "37e6a756",
   "metadata": {},
   "outputs": [
    {
     "name": "stdout",
     "output_type": "stream",
     "text": [
      "1/1 [==============================] - 0s 49ms/step\n"
     ]
    },
    {
     "data": {
      "text/plain": [
       "'Disgust'"
      ]
     },
     "execution_count": 12,
     "metadata": {},
     "output_type": "execute_result"
    }
   ],
   "source": [
    "predictions = model.predict(result[0].reshape(1, 58, 1))\n",
    "predictions = np.argmax(predictions)\n",
    "classes[predictions]"
   ]
  },
  {
   "cell_type": "code",
   "execution_count": null,
   "id": "5b5f66a7",
   "metadata": {},
   "outputs": [],
   "source": []
  }
 ],
 "metadata": {
  "kernelspec": {
   "display_name": "Python 3 (ipykernel)",
   "language": "python",
   "name": "python3"
  },
  "language_info": {
   "codemirror_mode": {
    "name": "ipython",
    "version": 3
   },
   "file_extension": ".py",
   "mimetype": "text/x-python",
   "name": "python",
   "nbconvert_exporter": "python",
   "pygments_lexer": "ipython3",
   "version": "3.9.7"
  }
 },
 "nbformat": 4,
 "nbformat_minor": 5
}
